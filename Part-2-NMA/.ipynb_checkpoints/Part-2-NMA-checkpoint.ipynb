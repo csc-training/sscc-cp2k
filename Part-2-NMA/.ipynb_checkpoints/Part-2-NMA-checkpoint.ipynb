{
 "cells": [
  {
   "cell_type": "markdown",
   "id": "9a70a7a0-4134-4f3e-a8dc-bd61817a620a",
   "metadata": {},
   "source": [
    "# Part 2: Vibrational analysis of the transition state\n",
    "\n",
    "The transition state (TS) is a first-order saddle-point on the multi-dimensional potential energy surface (PES). In other words, it is a maximum along the reaction path and a minimum in all other directions. This means that a vibrational analysis of the TS should yield exactly one imaginary vibrational mode. This technique is frequently used to verify that a TS was really found."
   ]
  },
  {
   "cell_type": "code",
   "execution_count": null,
   "id": "11ca3977-1f9f-4402-90e1-f41771c1ca0b",
   "metadata": {},
   "outputs": [],
   "source": []
  }
 ],
 "metadata": {
  "kernelspec": {
   "display_name": "Python 3 (ipykernel)",
   "language": "python",
   "name": "python3"
  },
  "language_info": {
   "codemirror_mode": {
    "name": "ipython",
    "version": 3
   },
   "file_extension": ".py",
   "mimetype": "text/x-python",
   "name": "python",
   "nbconvert_exporter": "python",
   "pygments_lexer": "ipython3",
   "version": "3.12.2"
  }
 },
 "nbformat": 4,
 "nbformat_minor": 5
}
