{
 "cells": [
  {
   "cell_type": "markdown",
   "id": "9a70a7a0-4134-4f3e-a8dc-bd61817a620a",
   "metadata": {},
   "source": [
    "[View on GitHub](https://github.com/csc-training/sscc-cp2k)\n",
    "\n",
    "# Proton transfer simulations with CP2K\n",
    "\n",
    "## Part 2: Normal mode analysis (NMA) of the transition state\n",
    "\n",
    "The transition state (TS) is a first-order saddle-point on the multi-dimensional potential energy surface (PES). In other words, it is a maximum along the reaction path and a minimum in all other directions. This means that a normal mode analysis (NMA) of the TS should yield exactly one imaginary vibrational mode. This technique is frequently used to verify that a TS was really found.\n",
    "\n",
    "### Step 2.1: Prepare the input file and submit the calculation\n",
    "\n",
    "**Start by copying the optimized TS structure and wave function restart file to the current working directory:**"
   ]
  },
  {
   "cell_type": "code",
   "execution_count": null,
   "id": "5280e8ca-e9a5-4c1e-b114-dde6a35439a6",
   "metadata": {},
   "outputs": [],
   "source": [
    "%%bash\n",
    "cp ../Part-1-NEB/enol-neb-BAND5-RESTART.wfn .\n",
    "cp ../Part-1-NEB/enol-neb-pos-Replica_nr_5-1.xyz ."
   ]
  },
  {
   "cell_type": "markdown",
   "id": "9060127a-76ee-4fd9-a50a-82e31d644a67",
   "metadata": {},
   "source": [
    "**Inspect the input file `nma.inp` and fix all occurrences of `FIXME` based on that:**\n",
    "\n",
    "* Run type is `NORMAL_MODES`\n",
    "* Wavefunction restart file name is `enol-neb-BAND5-RESTART.wfn`\n",
    "* Coordinate file name is `enol-neb-pos-Replica_nr_5-1.xyz`\n",
    "* Initial density guess is made based on `RESTART`\n",
    "\n",
    "Write the input to a file `nma.inp` by running the cell."
   ]
  },
  {
   "cell_type": "code",
   "execution_count": null,
   "id": "7b1dc8f2-0aba-49b0-abe9-a598c3532215",
   "metadata": {},
   "outputs": [],
   "source": [
    "%%writefile nma.inp\n",
    "&GLOBAL\n",
    "  PROJECT enol-nma                      ! Project name, gets prepended to all output files\n",
    "  RUN_TYPE FIXME                        ! Type of calculation\n",
    "  PRINT_LEVEL LOW                       ! Low verbosity\n",
    "&END GLOBAL\n",
    "\n",
    "&FORCE_EVAL                             ! Include DFT and system settings\n",
    "  &DFT\n",
    "    RESTART_FILE_NAME FIXME\n",
    "    BASIS_SET_FILE_NAME BASIS_MOLOPT\n",
    "    &QS\n",
    "      EPS_DEFAULT 1.0E-12               ! Sets convergence criteria so that energy should be accurate up to this value\n",
    "    &END QS\n",
    "    &POISSON                            ! How to deal with electrostatics\n",
    "      PERIODIC NONE                     ! System is not periodic\n",
    "      POISSON_SOLVER WAVELET            ! Efficient solver for non-periodic system\n",
    "    &END POISSON\n",
    "    &SCF\n",
    "      SCF_GUESS FIXME                   ! How to guess initial electron density for SCF cycle\n",
    "      EPS_SCF 1.0E-6                    ! Energy convergence criteria (atomic units)\n",
    "      &OT                               ! Use orbital transformation method instead of brute-force diagonalization\n",
    "        ALGORITHM IRAC                  ! OT algorithm\n",
    "        MINIMIZER DIIS                  ! Minimization algorithm\n",
    "        PRECONDITIONER FULL_ALL         ! Preconditioner for the minimizer\n",
    "      &END OT\n",
    "      MAX_SCF 20                        ! Maximum number of SCF steps before rebuilding preconditioner\n",
    "      &OUTER_SCF ON\n",
    "        EPS_SCF 1.0E-6                  ! Outer loop energy convergence criteria (atomic units)\n",
    "        MAX_SCF 12                      ! Maximum number of preconditioner rebuilds before terminating\n",
    "      &END OUTER_SCF\n",
    "      &PRINT\n",
    "        &RESTART\n",
    "          BACKUP_COPIES 0               ! Avoid excessive printing of restart files\n",
    "        &END RESTART\n",
    "      &END PRINT\n",
    "    &END SCF\n",
    "    &XC\n",
    "      &XC_FUNCTIONAL PBE                ! Exchange-correlation funtional\n",
    "      &END XC_FUNCTIONAL\n",
    "    &END XC\n",
    "  &END DFT\n",
    "  &SUBSYS\n",
    "    &CELL\n",
    "      PERIODIC NONE                     ! System is not periodic\n",
    "      ABC 15.0 15.0 15.0                ! Simulation cell dimensions in angstroms\n",
    "    &END CELL\n",
    "    &TOPOLOGY                           ! Specify input coordinate format and filename\n",
    "      COORD_FILE_FORMAT XYZ\n",
    "      COORD_FILE_NAME FIXME\n",
    "    &END TOPOLOGY\n",
    "    &KIND H                             ! Basis and pseudopotential for hydrogen\n",
    "      BASIS_SET DZVP-MOLOPT-SR-GTH\n",
    "      POTENTIAL GTH-PBE-q1\n",
    "    &END KIND\n",
    "    &KIND C                             ! Basis and pseudopotential for carbon\n",
    "      BASIS_SET DZVP-MOLOPT-SR-GTH\n",
    "      POTENTIAL GTH-PBE-q4\n",
    "    &END KIND\n",
    "    &KIND O                             ! Basis and pseudopotential for oxygen\n",
    "      BASIS_SET DZVP-MOLOPT-SR-GTH\n",
    "      POTENTIAL GTH-PBE-q6\n",
    "    &END KIND\n",
    "  &END SUBSYS\n",
    "&END FORCE_EVAL\n",
    "\n",
    "&VIBRATIONAL_ANALYSIS\n",
    "  NPROC_REP 10\n",
    "&END VIBRATIONAL_ANALYSIS"
   ]
  },
  {
   "cell_type": "markdown",
   "id": "3681297f-0b05-4216-aa2c-da17af8b912c",
   "metadata": {},
   "source": [
    "**Next, write the following simple batch job script to a file by running the cell.** We'll again request two full Puhti nodes (40 CPU cores each)."
   ]
  },
  {
   "cell_type": "code",
   "execution_count": null,
   "id": "9229bac6-ffa5-4f61-b665-9014e6f0e195",
   "metadata": {},
   "outputs": [],
   "source": [
    "%%writefile job.sh\n",
    "#!/bin/bash\n",
    "#SBATCH --time=00:15:00\n",
    "#SBATCH --reservation=sscc_thu_large\n",
    "#SBATCH --partition=large\n",
    "#SBATCH --nodes=2\n",
    "#SBATCH --ntasks-per-node=40\n",
    "#SBATCH --account=project_2006657\n",
    "\n",
    "module purge\n",
    "module load intel-oneapi-compilers-classic/2021.6.0\n",
    "module load intel-oneapi-mpi/2021.6.0\n",
    "module load cp2k/2024.1\n",
    "\n",
    "srun cp2k.psmp nma.inp"
   ]
  },
  {
   "cell_type": "markdown",
   "id": "8f09c1f9-aff1-4510-8f27-46f238be5801",
   "metadata": {},
   "source": [
    "**Run the calculation as a batch job by executing the cell below.** Note, before running `sbatch`, we unset all Slurm environment variables as we are submitting a batch job from another Slurm job (this notebook that we're currently running)."
   ]
  },
  {
   "cell_type": "code",
   "execution_count": null,
   "id": "772da2e3-1770-4318-a356-ecbd87a74f0c",
   "metadata": {},
   "outputs": [],
   "source": [
    "!unset ${!SLURM@}; sbatch job.sh"
   ]
  },
  {
   "cell_type": "markdown",
   "id": "fac53da2-2148-421e-a155-68983e5cb5d5",
   "metadata": {},
   "source": [
    "The calculation should only take about 3 minutes. You may monitor the queue using `squeue` command:"
   ]
  },
  {
   "cell_type": "code",
   "execution_count": null,
   "id": "76e9a6d5-b271-4dd5-882d-ceaf12f984de",
   "metadata": {},
   "outputs": [],
   "source": [
    "!squeue --me"
   ]
  },
  {
   "cell_type": "markdown",
   "id": "5c549245-2df4-4bad-8ae2-cb13d6ec8864",
   "metadata": {},
   "source": [
    "### Step 2.2: Analysis\n",
    "\n",
    "**Once the job has completed, inspect the produced `.mol` file:**"
   ]
  },
  {
   "cell_type": "code",
   "execution_count": null,
   "id": "8fc729b7-3d93-4d16-af8b-77a80b8ada21",
   "metadata": {
    "scrolled": true
   },
   "outputs": [],
   "source": [
    "!cat enol-nma-VIBRATIONS-1.mol"
   ]
  },
  {
   "cell_type": "markdown",
   "id": "5762b032-1f41-4d54-9517-b167f47372e1",
   "metadata": {},
   "source": [
    "* Check the lines under `[FREQ]`. Is there only one imaginary (negative) frequency?\n",
    "* Scroll to the end of the file. How many vibrational modes are there in total? Does the number make sense?\n",
    "    * Hint: think about degrees of freedom.\n",
    "\n",
    "### Bonus: Visualize the imaginary vibrational mode\n",
    "\n",
    "[Molden](https://docs.csc.fi/apps/molden/) can be used to visualize `.mol` files. However, in a Jupyter Notebook we need to use other tools such as py3Dmol. To this end, create a new `.xyz` file that contains both the atomic and normal mode coordinates:"
   ]
  },
  {
   "cell_type": "code",
   "execution_count": null,
   "id": "8b0f4e32-5cdc-495f-9aeb-9887e4c67ac6",
   "metadata": {},
   "outputs": [],
   "source": [
    "%%bash\n",
    "tail -21 enol-neb-pos-Replica_nr_5-1.xyz > coord.tmp\n",
    "grep -A20 FR-NORM-COORD enol-nma-VIBRATIONS-1.mol > vib.tmp\n",
    "paste coord.tmp vib.tmp > vib.xyz"
   ]
  },
  {
   "cell_type": "markdown",
   "id": "224591d5-5a53-4668-9650-3073d1938146",
   "metadata": {},
   "source": [
    "Then, you can visualize the mode using py3Dmol:"
   ]
  },
  {
   "cell_type": "code",
   "execution_count": null,
   "id": "0f23db07-529a-4744-933a-1e6230a4dd29",
   "metadata": {},
   "outputs": [],
   "source": [
    "import py3Dmol\n",
    "\n",
    "with open('vib.xyz', 'r') as f:\n",
    "    vib = f.read()\n",
    "\n",
    "view = py3Dmol.view(height=400, width=400)\n",
    "view.addModel(vib, 'xyz', {'vibrate': {'frames': 10, 'amplitude': 0.5}})\n",
    "view.setStyle({'sphere': {'scale': 0.30}, 'stick': {'radius': 0.25}})\n",
    "view.animate({'loop': 'backAndForth'})\n",
    "view.zoomTo()\n",
    "view.show()"
   ]
  },
  {
   "cell_type": "markdown",
   "id": "ef176470-839c-4a84-b882-c5b46ab0755e",
   "metadata": {},
   "source": [
    "**[Continue the hands-on with Part 3.](../Part-3-Hybrid/Part-3-Hybrid.ipynb)**"
   ]
  }
 ],
 "metadata": {
  "kernelspec": {
   "display_name": "Python 3 (ipykernel)",
   "language": "python",
   "name": "python3"
  },
  "language_info": {
   "codemirror_mode": {
    "name": "ipython",
    "version": 3
   },
   "file_extension": ".py",
   "mimetype": "text/x-python",
   "name": "python",
   "nbconvert_exporter": "python",
   "pygments_lexer": "ipython3",
   "version": "3.12.2"
  }
 },
 "nbformat": 4,
 "nbformat_minor": 5
}
