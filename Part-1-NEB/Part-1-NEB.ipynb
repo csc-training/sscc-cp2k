{
 "cells": [
  {
   "attachments": {},
   "cell_type": "markdown",
   "metadata": {},
   "source": [
    "[View on GitHub](https://github.com/csc-training/sscc-cp2k)\n",
    "\n",
    "# Proton transfer simulations with CP2K\n",
    "\n",
    "In this exercise, we will study the interconversion between the two enol forms of 2-formylcyclohexanone using DFT calculations powered by the CP2K software package.\n",
    "\n",
    "## Background\n",
    "\n",
    "Any reaction that **only** involves intramolecular proton transfer is called *tautomerism*. Carbonyl compounds are typical examples, which may exist in *keto* and *enol* forms:\n",
    "\n",
    "<center>\n",
    "    <img src=\"../img/keto-enol.png\" style=\"width: 660px\"/>\n",
    "</center>\n",
    "\n",
    "Keto–enol equilibrium typically lies heavily towards the keto form. However, **1,3-dicarbonyl compounds** are exceptional due to thermodynamically favorable enolization enabled by *conjugation* and *intramolecular hydrogen bonding*.\n",
    "\n",
    "<center>\n",
    "    <img src=\"../img/acetylacetone.png\" style=\"width: 660px\"/>\n",
    "</center>\n",
    "\n",
    "In this exercise we'll perform DFT simulations of the interconversion between the two enol forms of *2-formylcyclohexanone* using methods provided by the CP2K software package.\n",
    "\n",
    "<center>\n",
    "    <img src=\"../img/cyclohexanone.png\" style=\"width: 440px\"/>\n",
    "</center>\n",
    "\n",
    "[CP2K](https://www.cp2k.org) is a versatile software suite for massively parallel quantum chemistry calculations and, in particular, *ab initio* molecular dynamics simulations. CP2K implements DFT using the *mixed Gaussian and plane waves* (GPW) method, where the electron density is represented using plane waves while the valence orbitals are expanded in a Gaussian basis. This allows leveraging both analytical integral relations for Gaussians as well as fast Fourier transforms for electrostatics and the exchange–correlation interaction in the plane wave basis.\n",
    "\n",
    "## Part 1: Minimum energy path from nudged elastic band calculation\n",
    "\n",
    "Nudged elastic band (NEB) is a method for finding the minimum energy path between two equilibrium structures. Here, a discrete band of \"images\" connecting the initial (IS) and final states (FS) is constructed with a harmonic potential included between each pair of images to keep the band continuous and images equidistant. This band is then optimized so that each image finds the lowest energy possible while maintaining the previous constraints.\n",
    "\n",
    "<center>\n",
    "    <img src=\"../img/neb.png\" style=\"width: 300px\"/>\n",
    "</center>\n",
    "\n",
    "### Step 1.1: Visualize the initial and final state structures\n",
    "\n",
    "**Start by visualizing the initial and final state structures `enol-is.xyz` and `enol-fs.xyz` using the py3Dmol Python package:**"
   ]
  },
  {
   "cell_type": "code",
   "execution_count": null,
   "metadata": {},
   "outputs": [],
   "source": [
    "import py3Dmol\n",
    "\n",
    "with open(\"enol-is.xyz\", \"r\") as f:\n",
    "    initial_state = f.read()\n",
    "\n",
    "with open(\"enol-fs.xyz\", \"r\") as f:\n",
    "    final_state = f.read()\n",
    "\n",
    "view = py3Dmol.view(height=400, width=800, linked=True, viewergrid=(1,2))\n",
    "view.addModel(initial_state, viewer=(0,0))\n",
    "view.addModel(final_state, viewer=(0,1))\n",
    "view.setStyle({'sphere':{'scale':0.30},'stick':{'radius':0.25}})\n",
    "view.zoomTo()\n",
    "view.show()"
   ]
  },
  {
   "cell_type": "markdown",
   "metadata": {},
   "source": [
    "### Step 1.2: Prepare the input file and submit the calculation\n",
    "\n",
    "A typical CP2K input file looks as follows. There are high-level `&GLOBAL`, `&FORCE_EVAL` and `&MOTION` sections, which respectively contain global settings, settings controlling the system and how forces (energies) are calculated (e.g. DFT) and settings that specify parameters for various methods involving moving atoms (e.g. MD, geometry optimization). Take a minute to inspect the input parameters and their explanations. You may also consult the [CP2K manual](https://manual.cp2k.org) for reference.\n",
    "\n",
    "**Start by fixing all occurences of `FIXME` in the input file based on that:**\n",
    "\n",
    "* We'll perform a run of type `BAND` with `8` replicas (images).\n",
    "* We'll use the `PBE` exchange-correlation functional.\n",
    "\n",
    "When done, **run the cell to write the lines to a file `neb.inp` using the `%%writefile` magic syntax.**"
   ]
  },
  {
   "cell_type": "code",
   "execution_count": null,
   "metadata": {},
   "outputs": [],
   "source": [
    "%%writefile neb.inp\n",
    "&GLOBAL\n",
    "  PROJECT enol-neb                      ! Project name, gets prepended to all output files\n",
    "  RUN_TYPE FIXME                        ! Type of calculation\n",
    "  PRINT_LEVEL LOW                       ! Low verbosity\n",
    "&END GLOBAL\n",
    "\n",
    "&FORCE_EVAL                             ! Include DFT and system settings\n",
    "  &DFT\n",
    "    BASIS_SET_FILE_NAME BASIS_MOLOPT\n",
    "    &QS\n",
    "      EPS_DEFAULT 1.0E-12               ! Sets convergence criteria so that energy should be accurate up to this value\n",
    "    &END QS\n",
    "    &POISSON                            ! How to deal with electrostatics\n",
    "      PERIODIC NONE                     ! System is not periodic\n",
    "      POISSON_SOLVER WAVELET            ! Efficient solver for non-periodic system\n",
    "    &END POISSON\n",
    "    &SCF\n",
    "      SCF_GUESS ATOMIC                  ! Initial density guess is a simple superposition of atomic charge densities\n",
    "      EPS_SCF 1.0E-6                    ! Energy convergence criteria (atomic units)\n",
    "      &OT                               ! Use orbital transformation method instead of brute-force diagonalization\n",
    "        ALGORITHM IRAC                  ! OT algorithm\n",
    "        MINIMIZER DIIS                  ! Minimization algorithm\n",
    "        PRECONDITIONER FULL_ALL         ! Preconditioner for the minimizer\n",
    "      &END OT\n",
    "      MAX_SCF 20                        ! Maximum number of SCF steps before rebuilding preconditioner\n",
    "      &OUTER_SCF ON\n",
    "        EPS_SCF 1.0E-6                  ! Outer loop energy convergence criteria (atomic units)\n",
    "        MAX_SCF 12                      ! Maximum number of preconditioner rebuilds before terminating\n",
    "      &END OUTER_SCF\n",
    "      &PRINT\n",
    "        &RESTART\n",
    "          BACKUP_COPIES 0               ! Avoid excessive printing of restart files\n",
    "        &END RESTART\n",
    "      &END PRINT\n",
    "    &END SCF\n",
    "    &XC\n",
    "      &XC_FUNCTIONAL FIXME              ! Exchange-correlation funtional\n",
    "      &END XC_FUNCTIONAL\n",
    "    &END XC\n",
    "  &END DFT\n",
    "  &SUBSYS\n",
    "    &CELL\n",
    "      PERIODIC NONE                     ! System is not periodic\n",
    "      ABC 15.0 15.0 15.0                ! Simulation cell dimensions in angstroms\n",
    "    &END CELL\n",
    "    &TOPOLOGY                           ! Specify input coordinate format and filename\n",
    "      COORD_FILE_FORMAT XYZ\n",
    "      COORD_FILE_NAME enol-is.xyz\n",
    "    &END TOPOLOGY\n",
    "    &KIND H                             ! Basis and pseudopotential for hydrogen\n",
    "      BASIS_SET DZVP-MOLOPT-SR-GTH\n",
    "      POTENTIAL GTH-PBE-q1\n",
    "    &END KIND\n",
    "    &KIND C                             ! Basis and pseudopotential for carbon\n",
    "      BASIS_SET DZVP-MOLOPT-SR-GTH\n",
    "      POTENTIAL GTH-PBE-q4\n",
    "    &END KIND\n",
    "    &KIND O                             ! Basis and pseudopotential for oxygen\n",
    "      BASIS_SET DZVP-MOLOPT-SR-GTH\n",
    "      POTENTIAL GTH-PBE-q6\n",
    "    &END KIND\n",
    "  &END SUBSYS\n",
    "&END FORCE_EVAL\n",
    "\n",
    "&MOTION\n",
    "  &BAND\n",
    "    BAND_TYPE CI-NEB                    ! Climbing-image flavor of NEB\n",
    "    NUMBER_OF_REPLICA FIXME             ! How many images to include\n",
    "    NPROC_REP 10                        ! How many compute cores to assign to each image\n",
    "    &REPLICA                            ! Initial state filename\n",
    "      COORD_FILE_NAME enol-is.xyz\n",
    "    &END\n",
    "    &REPLICA                            ! Final state filename\n",
    "      COORD_FILE_NAME enol-fs.xyz\n",
    "    &END\n",
    "    &OPTIMIZE_BAND\n",
    "      OPTIMIZE_END_POINTS               ! Optimize also IS and FS\n",
    "      &DIIS\n",
    "        MAX_STEPS 20                    ! In the interest of time, run only 20 iterations\n",
    "      &END DIIS\n",
    "    &END OPTIMIZE_BAND\n",
    "  &END BAND\n",
    "  &PRINT                                ! We don't need restart files in this case\n",
    "    &RESTART OFF\n",
    "    &END RESTART\n",
    "    &RESTART_HISTORY OFF\n",
    "    &END RESTART_HISTORY\n",
    "  &END PRINT\n",
    "&END MOTION"
   ]
  },
  {
   "cell_type": "markdown",
   "metadata": {},
   "source": [
    "**Next, write the following simple batch job script to a file by running the cell.** We'll request two full Puhti nodes (40 CPU cores each), meaning that each of the 8 images will be run using $80/8=10$ cores."
   ]
  },
  {
   "cell_type": "code",
   "execution_count": null,
   "metadata": {},
   "outputs": [],
   "source": [
    "%%writefile job.sh\n",
    "#!/bin/bash\n",
    "#SBATCH --time=00:15:00\n",
    "#SBATCH --reservation=sscc_thu_large\n",
    "#SBATCH --partition=large\n",
    "#SBATCH --nodes=2\n",
    "#SBATCH --ntasks-per-node=40\n",
    "#SBATCH --account=project_2006657\n",
    "\n",
    "module purge\n",
    "module load intel-oneapi-compilers-classic/2021.6.0\n",
    "module load intel-oneapi-mpi/2021.6.0\n",
    "module load cp2k/2024.1\n",
    "\n",
    "srun cp2k.psmp neb.inp"
   ]
  },
  {
   "cell_type": "markdown",
   "metadata": {},
   "source": [
    "**Run the calculation as a batch job by executing the cell below.** Note, before running `sbatch`, we unset all Slurm environment variables as we are submitting a batch job from another Slurm job (this notebook that we're currently running)."
   ]
  },
  {
   "cell_type": "code",
   "execution_count": null,
   "metadata": {},
   "outputs": [],
   "source": [
    "!unset ${!SLURM@}; sbatch job.sh"
   ]
  },
  {
   "cell_type": "markdown",
   "metadata": {},
   "source": [
    "We'll run 20 NEB iterations, so the calculation should only take about 10 minutes. You may monitor the queue using `squeue` command:"
   ]
  },
  {
   "cell_type": "code",
   "execution_count": null,
   "metadata": {},
   "outputs": [],
   "source": [
    "!squeue --me"
   ]
  },
  {
   "cell_type": "markdown",
   "metadata": {},
   "source": [
    "### Step 1.3: Analysis\n",
    "\n",
    "A bunch of output files are produced during the calculation:\n",
    "\n",
    "* `*.out` are various output files\n",
    "* `*.wfn` files are wavefunction restarts\n",
    "* `*.xyz` are coordinate files\n",
    "* `*.ener` containes the energies for each image and iteration\n",
    "\n",
    "**Extract the optimized coordinates (last frame) of each image into separate files and the corresponding energies into one file by running the cell below:**"
   ]
  },
  {
   "cell_type": "code",
   "execution_count": null,
   "metadata": {},
   "outputs": [],
   "source": [
    "%%bash\n",
    "for i in $(seq 8); do\n",
    "    tail -21 enol-neb-pos-Replica_nr_${i}-1.xyz > image_${i}.xyz\n",
    "done\n",
    "grep \"E =\" image* | awk '{print $7}' > energy-pbe.txt"
   ]
  },
  {
   "cell_type": "markdown",
   "metadata": {},
   "source": [
    "**Then, view a movie of the minimum energy path alongside the optimized energy profile of the proton transfer (in meV):**"
   ]
  },
  {
   "cell_type": "code",
   "execution_count": null,
   "metadata": {},
   "outputs": [],
   "source": [
    "from ipywidgets import IntSlider, interactive_output, HBox\n",
    "import py3Dmol\n",
    "import matplotlib.pyplot as plt\n",
    "import numpy as np\n",
    "\n",
    "# Function for visualizing a single image\n",
    "def viewer(idx):\n",
    "    view = py3Dmol.view(height=400, width=400)\n",
    "    view.addModel(images[idx])\n",
    "    view.setStyle({'sphere':{'scale':0.30},'stick':{'radius':0.25}})\n",
    "    view.zoomTo()\n",
    "    return view.show()\n",
    "\n",
    "# Function for plotting the energy of each image\n",
    "def energy(idx):\n",
    "    plt.plot(energies, 'o-')\n",
    "    plt.plot(idx, energies[idx], 'o', markersize=10)\n",
    "    plt.xlabel('NEB image')\n",
    "    plt.ylabel('Energy (meV)')\n",
    "    return plt.show()\n",
    "\n",
    "# Read the energy of each image, convert to meV and shift IS energy to 0\n",
    "energies = np.loadtxt(\"energy-pbe.txt\")\n",
    "energies = 27211.38*(energies-energies[0])\n",
    "\n",
    "# Create a list containing the structure of each optimized NEB image\n",
    "images = []\n",
    "for i in range(8):\n",
    "    with open(\"image_%i.xyz\" % (i+1), \"r\") as f:\n",
    "        images.append(f.read())\n",
    "\n",
    "idx = IntSlider(max=len(images)-1, description=\"NEB image\")\n",
    "out1 = interactive_output(viewer, {'idx': idx})\n",
    "out2 = interactive_output(energy, {'idx': idx})\n",
    "display(idx, HBox([out1,out2]))"
   ]
  },
  {
   "cell_type": "markdown",
   "metadata": {},
   "source": [
    "**What can you say based on the reaction barrier height? What about the reaction energy?**\n",
    "\n",
    "* Hint: The thermal energy at room temperature is about $k_\\mathrm{B}T\\approx25$ meV"
   ]
  },
  {
   "cell_type": "markdown",
   "metadata": {},
   "source": [
    "**[Continue the hands-on with Part 2](../Part-2-NMA/Part-2-NMA.ipynb)**"
   ]
  }
 ],
 "metadata": {
  "kernelspec": {
   "display_name": "Python 3 (ipykernel)",
   "language": "python",
   "name": "python3"
  },
  "language_info": {
   "codemirror_mode": {
    "name": "ipython",
    "version": 3
   },
   "file_extension": ".py",
   "mimetype": "text/x-python",
   "name": "python",
   "nbconvert_exporter": "python",
   "pygments_lexer": "ipython3",
   "version": "3.12.2"
  }
 },
 "nbformat": 4,
 "nbformat_minor": 4
}
