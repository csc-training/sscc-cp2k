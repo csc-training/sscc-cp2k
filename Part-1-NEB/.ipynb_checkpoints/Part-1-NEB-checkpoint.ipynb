{
 "cells": [
  {
   "cell_type": "markdown",
   "metadata": {},
   "source": [
    "[View on GitHub](https://github.com/csc-training/sscc-cp2k)\n",
    "\n",
    "# Proton transfer simulations with CP2K\n",
    "\n",
    "In this exercise, we will study the interconversion between the two enol forms of 2-formylcyclohexanone using DFT calculations powered by the CP2K software package."
   ]
  },
  {
   "cell_type": "markdown",
   "metadata": {},
   "source": [
    "## Background\n",
    "\n",
    "Any reaction that **only** involves intramolecular proton transfer is called *tautomerism*. Carbonyl compounds are typical examples, which may exist in *keto* and *enol* forms:\n",
    "\n",
    "<center>\n",
    "    <img src=\"../img/keto-enol.png\" style=\"width: 660px\"/>\n",
    "</center>\n",
    "\n",
    "Keto–enol equilibrium typically lies heavily towards the keto form. However, **1,3-dicarbonyl compounds** are exceptional due to thermodynamically favorable enolization enabled by *conjugation* and *intramolecular hydrogen bonding*.\n",
    "\n",
    "<center>\n",
    "    <img src=\"../img/acetylacetone.png\" style=\"width: 660px\"/>\n",
    "</center>\n",
    "\n",
    "In this exercise we'll perform DFT simulations of the interconversion between the two enol forms of *2-formylcyclohexanone* using methods provided by the CP2K software package.\n",
    "\n",
    "<center>\n",
    "    <img src=\"../img/cyclohexanone.png\" style=\"width: 440px\"/>\n",
    "</center>\n",
    "\n",
    "[CP2K](https://www.cp2k.org) is a versatile software suite for massively parallel quantum chemistry calculations and, in particular, *ab initio* molecular dynamics simulations. CP2K implements DFT using the *mixed Gaussian and plane waves* (GPW) method, where the electron density is represented using plane waves while the valence orbitals are expanded in a Gaussian basis. This allows leveraging both analytical integral relations for Gaussians as well as fast Fourier transforms for electrostatics and the exchange–correlation interaction in the plane wave basis.\n",
    "\n",
    "## Part 1: Minimum energy path from nudged elastic band calculation\n",
    "\n",
    "Nudged elastic band (NEB) is a method for finding the minimum energy path between two equilibrium structures. Here, a discrete band of \"images\" connecting the initial (IS) and final states (FS) is constructed with a harmonic potential included between each pair of images to keep the band continuous and images equidistant. This band is then optimized so that each image finds the lowest energy possible while maintaining the previous constraints.\n",
    "\n",
    "<center>\n",
    "    <img src=\"../img/neb.png\" style=\"width: 300px\"/>\n",
    "</center>\n",
    "\n",
    "### Step 1.1: Visualize the initial and final state structures\n",
    "\n",
    "Start by visualizing the initial and final state structures `enol-is.xyz` and `enol-fs.xyz` using the py3Dmol Python package:"
   ]
  },
  {
   "cell_type": "code",
   "execution_count": 5,
   "metadata": {},
   "outputs": [
    {
     "data": {
      "application/3dmoljs_load.v0": "<div id=\"3dmolviewer_17120623337507622\"  style=\"position: relative; width: 800px; height: 400px;\">\n        <p id=\"3dmolwarning_17120623337507622\" style=\"background-color:#ffcccc;color:black\">3Dmol.js failed to load for some reason.  Please check your browser console for error messages.<br></p>\n        </div>\n<script>\n\nvar loadScriptAsync = function(uri){\n  return new Promise((resolve, reject) => {\n    //this is to ignore the existence of requirejs amd\n    var savedexports, savedmodule;\n    if (typeof exports !== 'undefined') savedexports = exports;\n    else exports = {}\n    if (typeof module !== 'undefined') savedmodule = module;\n    else module = {}\n\n    var tag = document.createElement('script');\n    tag.src = uri;\n    tag.async = true;\n    tag.onload = () => {\n        exports = savedexports;\n        module = savedmodule;\n        resolve();\n    };\n  var firstScriptTag = document.getElementsByTagName('script')[0];\n  firstScriptTag.parentNode.insertBefore(tag, firstScriptTag);\n});\n};\n\nif(typeof $3Dmolpromise === 'undefined') {\n$3Dmolpromise = null;\n  $3Dmolpromise = loadScriptAsync('https://cdnjs.cloudflare.com/ajax/libs/3Dmol/2.1.0/3Dmol-min.js');\n}\n\nvar viewer_17120623337507622 = null;\nvar warn = document.getElementById(\"3dmolwarning_17120623337507622\");\nif(warn) {\n    warn.parentNode.removeChild(warn);\n}\n$3Dmolpromise.then(function() {\nvar viewergrid_17120623337507622 = null;\nviewergrid_17120623337507622 = $3Dmol.createViewerGrid(document.getElementById(\"3dmolviewer_17120623337507622\"),{rows: 1, cols: 2, control_all: true},{backgroundColor:\"white\"});\nviewer_17120623337507622 = viewergrid_17120623337507622[0][0];\nviewergrid_17120623337507622[0][0].zoomTo();viewergrid_17120623337507622[0][1].zoomTo();\tviewergrid_17120623337507622[0][0].addModel(\"19\\nLattice=\\\"15.0 0.0 0.0 0.0 15.0 0.0 0.0 0.0 15.0\\\" Properties=species:S:1:pos:R:3 pbc=\\\"F F F\\\"\\nC        6.94426082       8.66402677       7.47676577\\nC        8.13752376       7.95554025       7.37376866\\nC        8.15452095       6.44107558       7.28308743\\nC        6.85064276       5.82319598       7.81398273\\nC        5.63105970       6.51421961       7.18506612\\nC        5.59695077       8.00728477       7.54874174\\nH        9.01797181       6.04724147       7.84071330\\nH        6.83107965       4.74481584       7.60122245\\nH        4.69860405       6.03296866       7.51144693\\nH        4.90373260       8.57437468       6.90911004\\nO        6.93450743       9.98737787       7.55504635\\nC        9.34335317       8.71613891       7.38260921\\nO        9.37898707       9.98461087       7.45950068\\nH       10.30139595       8.17109046       7.33118297\\nH        7.96365786      10.25518416       7.52643540\\nH        5.22798080       8.14956663       8.57873367\\nH        5.67305240       6.40135416       6.09274026\\nH        6.80899787       5.92966618       8.90725974\\nH        8.30187798       6.12739771       6.23714030\\n\");\n\tviewergrid_17120623337507622[0][1].addModel(\"19\\nLattice=\\\"15.0 0.0 0.0 0.0 15.0 0.0 0.0 0.0 15.0\\\" Properties=species:S:1:pos:R:3 pbc=\\\"F F F\\\"\\nC        6.93187515       8.70892602       7.50935758\\nC        8.14738561       7.95428171       7.38092099\\nC        8.14225443       6.44315844       7.23173402\\nC        6.85660842       5.81591093       7.79302587\\nC        5.62489165       6.51978910       7.20685265\\nC        5.59613688       8.00367634       7.60573716\\nH        9.02819408       6.01633689       7.72499775\\nH        6.83246499       4.74128053       7.56217842\\nH        4.69873222       6.02949912       7.53889383\\nH        4.86887017       8.58324663       7.01875883\\nO        6.94420373       9.98316193       7.59411274\\nC        9.32900453       8.67299551       7.40203185\\nO        9.38340763       9.98740638       7.50079257\\nH       10.30190651       8.17670042       7.34564085\\nH        8.34750950      10.25833311       7.55057343\\nH        5.27658206       8.11047680       8.65626993\\nH        5.64561692       6.42991774       6.11144179\\nH        6.84519673       5.90349641       8.88884917\\nH        8.22652248       6.17417417       6.16662044\\n\");\n\tviewergrid_17120623337507622[0][0].setStyle({\"stick\": {}});\n\tviewergrid_17120623337507622[0][1].setStyle({\"stick\": {}});\n\tviewergrid_17120623337507622[0][0].zoomTo();\n\tviewergrid_17120623337507622[0][1].zoomTo();\nviewergrid_17120623337507622[0][1].render();\nviewergrid_17120623337507622[0][0].render();\n});\n</script>",
      "text/html": [
       "<div id=\"3dmolviewer_17120623337507622\"  style=\"position: relative; width: 800px; height: 400px;\">\n",
       "        <p id=\"3dmolwarning_17120623337507622\" style=\"background-color:#ffcccc;color:black\">3Dmol.js failed to load for some reason.  Please check your browser console for error messages.<br></p>\n",
       "        </div>\n",
       "<script>\n",
       "\n",
       "var loadScriptAsync = function(uri){\n",
       "  return new Promise((resolve, reject) => {\n",
       "    //this is to ignore the existence of requirejs amd\n",
       "    var savedexports, savedmodule;\n",
       "    if (typeof exports !== 'undefined') savedexports = exports;\n",
       "    else exports = {}\n",
       "    if (typeof module !== 'undefined') savedmodule = module;\n",
       "    else module = {}\n",
       "\n",
       "    var tag = document.createElement('script');\n",
       "    tag.src = uri;\n",
       "    tag.async = true;\n",
       "    tag.onload = () => {\n",
       "        exports = savedexports;\n",
       "        module = savedmodule;\n",
       "        resolve();\n",
       "    };\n",
       "  var firstScriptTag = document.getElementsByTagName('script')[0];\n",
       "  firstScriptTag.parentNode.insertBefore(tag, firstScriptTag);\n",
       "});\n",
       "};\n",
       "\n",
       "if(typeof $3Dmolpromise === 'undefined') {\n",
       "$3Dmolpromise = null;\n",
       "  $3Dmolpromise = loadScriptAsync('https://cdnjs.cloudflare.com/ajax/libs/3Dmol/2.1.0/3Dmol-min.js');\n",
       "}\n",
       "\n",
       "var viewer_17120623337507622 = null;\n",
       "var warn = document.getElementById(\"3dmolwarning_17120623337507622\");\n",
       "if(warn) {\n",
       "    warn.parentNode.removeChild(warn);\n",
       "}\n",
       "$3Dmolpromise.then(function() {\n",
       "var viewergrid_17120623337507622 = null;\n",
       "viewergrid_17120623337507622 = $3Dmol.createViewerGrid(document.getElementById(\"3dmolviewer_17120623337507622\"),{rows: 1, cols: 2, control_all: true},{backgroundColor:\"white\"});\n",
       "viewer_17120623337507622 = viewergrid_17120623337507622[0][0];\n",
       "viewergrid_17120623337507622[0][0].zoomTo();viewergrid_17120623337507622[0][1].zoomTo();\tviewergrid_17120623337507622[0][0].addModel(\"19\\nLattice=\\\"15.0 0.0 0.0 0.0 15.0 0.0 0.0 0.0 15.0\\\" Properties=species:S:1:pos:R:3 pbc=\\\"F F F\\\"\\nC        6.94426082       8.66402677       7.47676577\\nC        8.13752376       7.95554025       7.37376866\\nC        8.15452095       6.44107558       7.28308743\\nC        6.85064276       5.82319598       7.81398273\\nC        5.63105970       6.51421961       7.18506612\\nC        5.59695077       8.00728477       7.54874174\\nH        9.01797181       6.04724147       7.84071330\\nH        6.83107965       4.74481584       7.60122245\\nH        4.69860405       6.03296866       7.51144693\\nH        4.90373260       8.57437468       6.90911004\\nO        6.93450743       9.98737787       7.55504635\\nC        9.34335317       8.71613891       7.38260921\\nO        9.37898707       9.98461087       7.45950068\\nH       10.30139595       8.17109046       7.33118297\\nH        7.96365786      10.25518416       7.52643540\\nH        5.22798080       8.14956663       8.57873367\\nH        5.67305240       6.40135416       6.09274026\\nH        6.80899787       5.92966618       8.90725974\\nH        8.30187798       6.12739771       6.23714030\\n\");\n",
       "\tviewergrid_17120623337507622[0][1].addModel(\"19\\nLattice=\\\"15.0 0.0 0.0 0.0 15.0 0.0 0.0 0.0 15.0\\\" Properties=species:S:1:pos:R:3 pbc=\\\"F F F\\\"\\nC        6.93187515       8.70892602       7.50935758\\nC        8.14738561       7.95428171       7.38092099\\nC        8.14225443       6.44315844       7.23173402\\nC        6.85660842       5.81591093       7.79302587\\nC        5.62489165       6.51978910       7.20685265\\nC        5.59613688       8.00367634       7.60573716\\nH        9.02819408       6.01633689       7.72499775\\nH        6.83246499       4.74128053       7.56217842\\nH        4.69873222       6.02949912       7.53889383\\nH        4.86887017       8.58324663       7.01875883\\nO        6.94420373       9.98316193       7.59411274\\nC        9.32900453       8.67299551       7.40203185\\nO        9.38340763       9.98740638       7.50079257\\nH       10.30190651       8.17670042       7.34564085\\nH        8.34750950      10.25833311       7.55057343\\nH        5.27658206       8.11047680       8.65626993\\nH        5.64561692       6.42991774       6.11144179\\nH        6.84519673       5.90349641       8.88884917\\nH        8.22652248       6.17417417       6.16662044\\n\");\n",
       "\tviewergrid_17120623337507622[0][0].setStyle({\"stick\": {}});\n",
       "\tviewergrid_17120623337507622[0][1].setStyle({\"stick\": {}});\n",
       "\tviewergrid_17120623337507622[0][0].zoomTo();\n",
       "\tviewergrid_17120623337507622[0][1].zoomTo();\n",
       "viewergrid_17120623337507622[0][1].render();\n",
       "viewergrid_17120623337507622[0][0].render();\n",
       "});\n",
       "</script>"
      ]
     },
     "metadata": {},
     "output_type": "display_data"
    }
   ],
   "source": [
    "import py3Dmol\n",
    "\n",
    "with open(\"enol-is.xyz\", \"r\") as f:\n",
    "    initial_state = f.read()\n",
    "\n",
    "with open(\"enol-fs.xyz\", \"r\") as f:\n",
    "    final_state = f.read()\n",
    "\n",
    "view = py3Dmol.view(height=400, width=800, linked=True, viewergrid=(1,2))\n",
    "view.addModel(initial_state, viewer=(0,0))\n",
    "view.addModel(final_state, viewer=(0,1))\n",
    "view.setStyle({'stick':{}})\n",
    "view.zoomTo()\n",
    "view.show()"
   ]
  },
  {
   "cell_type": "markdown",
   "metadata": {},
   "source": [
    "### Step 1.2: Prepare the input files and submit the calculation "
   ]
  },
  {
   "cell_type": "code",
   "execution_count": null,
   "metadata": {},
   "outputs": [],
   "source": [
    "%%writefile neb.inp\n",
    "&GLOBAL\n",
    "  PROJECT enol-neb                      ! Project name, gets prepended to all output files\n",
    "  RUN_TYPE BAND                         ! Type of calculation\n",
    "  PRINT_LEVEL LOW                       ! Low verbosity\n",
    "&END GLOBAL\n",
    "\n",
    "&FORCE_EVAL                             ! Include DFT and system settings\n",
    "  &DFT\n",
    "    BASIS_SET_FILE_NAME BASIS_MOLOPT\n",
    "    &QS\n",
    "      EPS_DEFAULT 1.0E-12               ! Sets convergence criteria so that energy should be accurate up to this value\n",
    "    &END QS\n",
    "    &POISSON                            ! How to deal with electrostatics\n",
    "      PERIODIC NONE                     ! System is not periodic\n",
    "      POISSON_SOLVER WAVELET            ! Efficient solver for non-periodic system\n",
    "    &END POISSON\n",
    "    &SCF\n",
    "      SCF_GUESS ATOMIC                  ! Initial density guess is a simple superposition of atomic charge densities\n",
    "      EPS_SCF 1.0E-6                    ! Energy convergence criteria (atomic units)\n",
    "      &OT                               ! Use orbital transformation method instead of brute-force diagonalization\n",
    "        ALGORITHM IRAC                  ! OT algorithm\n",
    "        MINIMIZER DIIS                  ! Minimization algorithm\n",
    "        PRECONDITIONER FULL_ALL         ! Preconditioner for the minimizer\n",
    "      &END OT\n",
    "      MAX_SCF 20                        ! Maximum number of SCF steps before rebuilding preconditioner\n",
    "      &OUTER_SCF ON\n",
    "        EPS_SCF 1.0E-6                  ! Outer loop energy convergence criteria (atomic units)\n",
    "        MAX_SCF 12                      ! Maximum number of preconditioner rebuilds before terminating\n",
    "      &END OUTER_SCF\n",
    "      &PRINT\n",
    "        &RESTART\n",
    "          BACKUP_COPIES 0               ! Avoid excessive printing of restart files\n",
    "        &END RESTART\n",
    "      &END PRINT\n",
    "    &END SCF\n",
    "    &XC\n",
    "      &XC_FUNCTIONAL PBE                ! Exchange-correlation funtional\n",
    "      &END XC_FUNCTIONAL\n",
    "    &END XC\n",
    "  &END DFT\n",
    "  &SUBSYS\n",
    "    &CELL\n",
    "      PERIODIC NONE                     ! System is not periodic\n",
    "      ABC 15.0 15.0 15.0                ! Simulation cell dimensions in angstroms\n",
    "    &END CELL\n",
    "    &TOPOLOGY                           ! Specify input coordinate format and filename\n",
    "      COORD_FILE_FORMAT XYZ\n",
    "      COORD_FILE_NAME enol-is.xyz\n",
    "    &END TOPOLOGY\n",
    "    &KIND H                             ! Basis and pseudopotential for hydrogen\n",
    "      BASIS_SET DZVP-MOLOPT-SR-GTH\n",
    "      POTENTIAL GTH-PBE-q1\n",
    "    &END KIND\n",
    "    &KIND C                             ! Basis and pseudopotential for carbon\n",
    "      BASIS_SET DZVP-MOLOPT-SR-GTH\n",
    "      POTENTIAL GTH-PBE-q4\n",
    "    &END KIND\n",
    "    &KIND O                             ! Basis and pseudopotential for oxygen\n",
    "      BASIS_SET DZVP-MOLOPT-SR-GTH\n",
    "      POTENTIAL GTH-PBE-q6\n",
    "    &END KIND\n",
    "  &END SUBSYS\n",
    "&END FORCE_EVAL\n",
    "\n",
    "&MOTION\n",
    "  &BAND\n",
    "    BAND_TYPE CI-NEB                    ! Climbing-image flavor of NEB\n",
    "    NUMBER_OF_REPLICA 8                 ! How many images to include\n",
    "    NPROC_REP 10                        ! How many compute cores to assign to each image\n",
    "    &REPLICA                            ! Initial state filename\n",
    "      COORD_FILE_NAME enol-is.xyz\n",
    "    &END\n",
    "    &REPLICA                            ! Final state filename\n",
    "      COORD_FILE_NAME enol-fs.xyz\n",
    "    &END\n",
    "    &OPTIMIZE_BAND\n",
    "      OPTIMIZE_END_POINTS               ! Optimize also IS and FS\n",
    "      &DIIS\n",
    "        MAX_STEPS 20                    ! In the interest of time, run only 20 iterations\n",
    "      &END DIIS\n",
    "    &END OPTIMIZE_BAND\n",
    "  &END BAND\n",
    "  &PRINT                                ! We don't need restart files in this case\n",
    "    &RESTART OFF\n",
    "    &END RESTART\n",
    "    &RESTART_HISTORY OFF\n",
    "    &END RESTART_HISTORY\n",
    "  &END PRINT\n",
    "&END MOTION"
   ]
  },
  {
   "cell_type": "code",
   "execution_count": null,
   "metadata": {},
   "outputs": [],
   "source": [
    "%%writefile job.sh\n",
    "#!/bin/bash\n",
    "#SBATCH --time=00:15:00\n",
    "#SBATCH --partition=test\n",
    "#SBATCH --nodes=2\n",
    "#SBATCH --ntasks-per-node=40\n",
    "#SBATCH --account=project_2006657\n",
    "\n",
    "module purge\n",
    "module load intel-oneapi-compilers-classic/2021.6.0\n",
    "module load intel-oneapi-mpi/2021.6.0\n",
    "module load cp2k/2024.1\n",
    "\n",
    "srun cp2k.psmp neb.inp"
   ]
  },
  {
   "cell_type": "code",
   "execution_count": 147,
   "metadata": {},
   "outputs": [
    {
     "name": "stdout",
     "output_type": "stream",
     "text": [
      "Submitted batch job 21054951\n"
     ]
    }
   ],
   "source": [
    "!unset ${!SLURM@}; sbatch job.sh"
   ]
  },
  {
   "cell_type": "markdown",
   "metadata": {},
   "source": [
    "### Step 1.3: Analysis"
   ]
  },
  {
   "cell_type": "code",
   "execution_count": 7,
   "metadata": {},
   "outputs": [],
   "source": [
    "%%bash\n",
    "for i in $(seq 8); do\n",
    "    tail -21 enol-neb-pos-Replica_nr_${i}-1.xyz > image-${i}.xyz\n",
    "    energy+=($(grep \"E =\" image-${i}.xyz | awk '{print $6}'))\n",
    "done\n",
    "printf \"%s\\n\" ${energy[@]} > energy.txt"
   ]
  },
  {
   "cell_type": "code",
   "execution_count": 9,
   "metadata": {},
   "outputs": [
    {
     "data": {
      "application/vnd.jupyter.widget-view+json": {
       "model_id": "644c49641deb4ca89b348246fc2e3b82",
       "version_major": 2,
       "version_minor": 0
      },
      "text/plain": [
       "IntSlider(value=0, description='NEB image', max=7)"
      ]
     },
     "metadata": {},
     "output_type": "display_data"
    },
    {
     "data": {
      "application/vnd.jupyter.widget-view+json": {
       "model_id": "5807cd66ecc84e0f92f3edd6937c59a2",
       "version_major": 2,
       "version_minor": 0
      },
      "text/plain": [
       "HBox(children=(Output(), Output()))"
      ]
     },
     "metadata": {},
     "output_type": "display_data"
    }
   ],
   "source": [
    "from ipywidgets import IntSlider, interactive_output, HBox\n",
    "import matplotlib.pyplot as plt\n",
    "import numpy as np\n",
    "\n",
    "# Read the energy of each image, convert to meV and shift IS energy to 0\n",
    "energies = np.loadtxt(\"energy.txt\")\n",
    "energies = 27211.38*(energies-energies[0])\n",
    "\n",
    "# Create a list containing the structure of each optimized NEB image\n",
    "images = []\n",
    "for i in range(8):\n",
    "    with open(\"image-%i.xyz\" % (i+1), \"r\") as f:\n",
    "        images.append(f.read())\n",
    "\n",
    "# Function for visualizing a single image\n",
    "def viewer(idx):\n",
    "    view = py3Dmol.view(height=400, width=400)\n",
    "    view.addModel(images[idx])\n",
    "    view.setStyle({'stick':{}})\n",
    "    view.zoomTo()\n",
    "    return view.show()\n",
    "\n",
    "# Function for plotting the energy of each image\n",
    "def energy(idx):\n",
    "    plt.plot(energies, 'o-')\n",
    "    plt.plot(idx, energies[idx], 'o', markersize=10)\n",
    "    plt.xlabel('NEB image')\n",
    "    plt.ylabel('Energy (meV)')\n",
    "    return plt.show()\n",
    "\n",
    "idx = IntSlider(max=len(images)-1, description=\"NEB image\")\n",
    "out1 = interactive_output(viewer, {'idx': idx})\n",
    "out2 = interactive_output(energy, {'idx': idx})\n",
    "\n",
    "display(idx, HBox([out1,out2]))"
   ]
  },
  {
   "cell_type": "markdown",
   "metadata": {},
   "source": [
    "What can you say about the reaction barrier height? What about the reaction energy?\n",
    "* Hint: The thermal energy at room temperature is about $k_\\mathrm{B}T\\approx25$ meV"
   ]
  },
  {
   "cell_type": "markdown",
   "metadata": {},
   "source": [
    "**[Continue the hands-on with Part 2](2-nma/untitled.ipynb)**"
   ]
  }
 ],
 "metadata": {
  "kernelspec": {
   "display_name": "Python 3 (ipykernel)",
   "language": "python",
   "name": "python3"
  },
  "language_info": {
   "codemirror_mode": {
    "name": "ipython",
    "version": 3
   },
   "file_extension": ".py",
   "mimetype": "text/x-python",
   "name": "python",
   "nbconvert_exporter": "python",
   "pygments_lexer": "ipython3",
   "version": "3.12.2"
  }
 },
 "nbformat": 4,
 "nbformat_minor": 4
}
