{
 "cells": [
  {
   "cell_type": "markdown",
   "id": "4db471a3-a11a-49ab-8318-53821da6a54e",
   "metadata": {},
   "source": [
    "# Part 3: Re-converging the NEB minimum energy profile using the PBE0 hybrid functional\n",
    "\n",
    "Due to self-interaction error and resulting electron overdelocalization, reaction barriers are underestimated by semilocal exchange–correlation functionals such as PBE. Hybrid functionals that include a fraction of exact Hartree–Fock (HF) exchange can mitigate this. We will now re-converge the energies of the NEB images optimized at the PBE level using the hybrid PBE0 functional."
   ]
  },
  {
   "cell_type": "code",
   "execution_count": null,
   "id": "9eb5cec0-7399-4de4-b73b-0e82e6268e11",
   "metadata": {},
   "outputs": [],
   "source": []
  }
 ],
 "metadata": {
  "kernelspec": {
   "display_name": "Python 3 (ipykernel)",
   "language": "python",
   "name": "python3"
  },
  "language_info": {
   "codemirror_mode": {
    "name": "ipython",
    "version": 3
   },
   "file_extension": ".py",
   "mimetype": "text/x-python",
   "name": "python",
   "nbconvert_exporter": "python",
   "pygments_lexer": "ipython3",
   "version": "3.12.2"
  }
 },
 "nbformat": 4,
 "nbformat_minor": 5
}
