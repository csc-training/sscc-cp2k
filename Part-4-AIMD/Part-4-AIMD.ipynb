{
 "cells": [
  {
   "cell_type": "markdown",
   "id": "3a0e1305-e054-4b06-a857-ff8d3b01f5f0",
   "metadata": {},
   "source": [
    "[View on GitHub](https://github.com/csc-training/sscc-cp2k)\n",
    "\n",
    "# Proton transfer simulations with CP2K\n",
    "\n",
    "## Part 4: Ab initio molecular dynamics simulation of 2-formylcyclohexanone in aqueous solution\n",
    "\n",
    "Standard classical MD simulations are unable to describe chemical reactions such as proton transfer. In ab initio molecular dynamics (AIMD) simulations the forces are calculated at each time step from first principles instead of a parametrized empirical force field. Atoms are thus free to move however they please, making bond making and breaking possible. AIMD simulations are very heavy and are typically run only for about ~100 ps. It is therefore typically not possible to observe chemical reactions without applying some external bias on the system. In the present case, however, the proton transfer barrier is so low (about the size of the thermal energy) that we can see and sample it.\n",
    "\n",
    "### Step 4.1: Preparing the system for AIMD simulation\n",
    "\n",
    "**Start by copying the IS coordinate file to the current working directory:**"
   ]
  },
  {
   "cell_type": "code",
   "execution_count": null,
   "id": "c87790e7-83eb-4662-a0ce-672020c889b1",
   "metadata": {},
   "outputs": [],
   "source": [
    "!cp ../Part-1-NEB/enol-is.xyz enol.xyz"
   ]
  },
  {
   "cell_type": "markdown",
   "id": "a2ed7338-f74e-4c35-920d-1037dd98baca",
   "metadata": {},
   "source": [
    "Before starting the AIMD simulation, we need to solvate the system, i.e. fill the box with water molecules. GROMACS has good tools for this, but we need to first convert the `.xyz` file to another format that GROMACS understands, e.g. `.gro`. This conversion can be done using the OpenBabel tool. **Perform the conversion to `.gro`, solvation and conversion back to `.xyz` by running the cell below:**"
   ]
  },
  {
   "cell_type": "code",
   "execution_count": null,
   "id": "50577dce-0a6c-4a9d-a8b8-fafe5182f189",
   "metadata": {},
   "outputs": [],
   "source": [
    "%%bash\n",
    "obabel enol.xyz -O enol.gro\n",
    "gmx solvate -cp enol.gro -cs spc216.gro -o enol-solv.gro -box 1.5 1.5 1.5\n",
    "obabel enol-solv.gro -O enol-solv.xyz"
   ]
  },
  {
   "cell_type": "markdown",
   "id": "a41ba103-d275-436a-a3d0-97eddf5569db",
   "metadata": {},
   "source": [
    "**Have a look at the solvated system:**"
   ]
  },
  {
   "cell_type": "code",
   "execution_count": null,
   "id": "ebf0ee93-6c68-49f4-8656-d9524733c050",
   "metadata": {},
   "outputs": [],
   "source": [
    "import py3Dmol\n",
    "\n",
    "with open('enol-solv.xyz', 'r') as f:\n",
    "    enol = f.read()\n",
    "\n",
    "view = py3Dmol.view(height=400, width=800)\n",
    "view.addModel(enol)\n",
    "view.setStyle({'sphere':{'scale':0.30},'stick':{'radius':0.25}})\n",
    "view.addUnitCell()\n",
    "view.zoomTo()\n",
    "view.show()"
   ]
  },
  {
   "cell_type": "markdown",
   "id": "a4eb1e14-d311-41af-a4ef-e8f9b42d27d4",
   "metadata": {},
   "source": [
    "### Step 4.2: Prepare the input file and submit the calculation\n",
    "\n",
    "**Inspect the input file below and fix all occurrences of `FIXME` based on that:**\n",
    "\n",
    "* Run type is `MD`\n",
    "* Timestep is `0.5` fs and we'll simulate the `NVT` ensemble (particle number, volume and temperature are kept constant)\n",
    "* PBE has a tendency to \"overstructure\" water (it is too ice-like). To mitigate this, we'll use a simulation temperature of `348.15` K (room temperature + 50 K)\n",
    "\n",
    "Once fixed, write the input to a file `aimd.inp` by running the cell."
   ]
  },
  {
   "cell_type": "code",
   "execution_count": null,
   "id": "79a2361b-f2c6-4a43-a03b-5b94b4527ac9",
   "metadata": {},
   "outputs": [],
   "source": [
    "%%writefile aimd.inp\n",
    "&GLOBAL\n",
    "  PROJECT enol-aimd                             ! Project name, gets prepended to all output files\n",
    "  RUN_TYPE FIXME                                ! Type of calculation\n",
    "  PRINT_LEVEL LOW                               ! Low verbosity\n",
    "&END GLOBAL\n",
    "\n",
    "&FORCE_EVAL                                     ! Include DFT and system settings\n",
    "  &DFT\n",
    "    BASIS_SET_FILE_NAME BASIS_MOLOPT\n",
    "    &QS\n",
    "      EPS_DEFAULT 1.0E-12                       ! Sets convergence criteria so that energy should be accurate up to this value\n",
    "    &END QS\n",
    "    &POISSON                                    ! How to deal with electrostatics\n",
    "      PERIODIC XYZ                              ! System is periodic\n",
    "      POISSON_SOLVER PERIODIC                   ! Solver for periodic systems\n",
    "    &END POISSON\n",
    "    &SCF\n",
    "      SCF_GUESS ATOMIC                          ! Initial density guess is a simple superposition of atomic charge densities\n",
    "      EPS_SCF 1.0E-6                            ! Energy convergence criteria (atomic units)\n",
    "      &OT                                       ! Use orbital transformation method instead of brute-force diagonalization\n",
    "        ALGORITHM IRAC                          ! OT algorithm\n",
    "        MINIMIZER DIIS                          ! Minimization algorithm\n",
    "        PRECONDITIONER FULL_ALL                 ! Preconditioner for the minimizer\n",
    "      &END OT\n",
    "      MAX_SCF 20                                ! Maximum number of SCF steps before rebuilding preconditioner\n",
    "      &OUTER_SCF ON\n",
    "        EPS_SCF 1.0E-6                          ! Outer loop energy convergence criteria (atomic units)\n",
    "        MAX_SCF 12                              ! Maximum number of preconditioner rebuilds before terminating\n",
    "      &END OUTER_SCF\n",
    "      &PRINT\n",
    "        &RESTART\n",
    "          BACKUP_COPIES 0                       ! Avoid excessive printing of restart files\n",
    "        &END RESTART\n",
    "      &END PRINT\n",
    "    &END SCF\n",
    "    &XC\n",
    "      &XC_FUNCTIONAL PBE                        ! Exchange-correlation funtional to use\n",
    "      &END XC_FUNCTIONAL\n",
    "    &END XC\n",
    "  &END DFT\n",
    "  &SUBSYS\n",
    "    &CELL\n",
    "      PERIODIC XYZ                              ! System is periodic\n",
    "      ABC 15.0 15.0 15.0                        ! Dimensions of the simulation cell in angstroms\n",
    "    &END CELL\n",
    "    &TOPOLOGY                                   ! Specify input coordinate format and filename\n",
    "      COORD_FILE_FORMAT XYZ\n",
    "      COORD_FILE_NAME enol-solv.xyz\n",
    "    &END TOPOLOGY\n",
    "    &KIND H                                     ! Basis sets and pseudopotential for hydrogen\n",
    "      BASIS_SET DZVP-MOLOPT-SR-GTH\n",
    "      POTENTIAL GTH-PBE-q1\n",
    "    &END KIND\n",
    "    &KIND C                                     ! Basis sets and pseudopotential for carbon\n",
    "      BASIS_SET DZVP-MOLOPT-SR-GTH\n",
    "      POTENTIAL GTH-PBE-q4\n",
    "    &END KIND\n",
    "    &KIND O                                     ! Basis sets and pseudopotential for oxygen\n",
    "      BASIS_SET DZVP-MOLOPT-SR-GTH\n",
    "      POTENTIAL GTH-PBE-q6\n",
    "    &END KIND\n",
    "  &END SUBSYS\n",
    "&END FORCE_EVAL\n",
    "\n",
    "&MOTION\n",
    "  &MD\n",
    "    ENSEMBLE FIXME                              ! Thermodynamic ensemble\n",
    "    STEPS 200                                   ! How many MD steps to run\n",
    "    TIMESTEP FIXME                              ! Timestep in femtoseconds\n",
    "    &THERMOSTAT                                 ! Thermostat settings\n",
    "      TYPE CSVR\n",
    "      &CSVR\n",
    "        TIMECON 50                              ! Low value for equilibration\n",
    "      &END CSVR\n",
    "    &END THERMOSTAT\n",
    "    TEMPERATURE FIXME                           ! Simulation temperature in K\n",
    "  &END MD\n",
    "  &PRINT                                        ! We don't need restarts in this case\n",
    "    &RESTART OFF\n",
    "    &END RESTART\n",
    "    &RESTART_HISTORY OFF\n",
    "    &END RESTART_HISTORY\n",
    "  &END PRINT\n",
    "&END MOTION"
   ]
  },
  {
   "cell_type": "markdown",
   "id": "2d8b1083-6169-4ff0-b7e9-167f3dfb5cf3",
   "metadata": {},
   "source": [
    "**Next, write the following simple batch job script to a file by running the cell.** We'll again request two full Puhti nodes (40 CPU cores each)."
   ]
  },
  {
   "cell_type": "code",
   "execution_count": null,
   "id": "351a8660-d1a0-4edd-9cfb-d939f4f54174",
   "metadata": {},
   "outputs": [],
   "source": [
    "%%writefile job.sh\n",
    "#!/bin/bash\n",
    "#SBATCH --time=00:30:00\n",
    "#SBATCH --reservation=sscc_thu_large\n",
    "#SBATCH --partition=large\n",
    "#SBATCH --nodes=2\n",
    "#SBATCH --ntasks-per-node=40\n",
    "#SBATCH --account=project_2006657\n",
    "\n",
    "module purge\n",
    "module load intel-oneapi-compilers-classic/2021.6.0\n",
    "module load intel-oneapi-mpi/2021.6.0\n",
    "module load cp2k/2024.1\n",
    "\n",
    "srun cp2k.psmp aimd.inp"
   ]
  },
  {
   "cell_type": "markdown",
   "id": "80e9a9ed-47e2-4bb2-b33f-492bef1cc8c7",
   "metadata": {},
   "source": [
    "**Run the calculation as a batch job by executing the cell below.** Note, before running `sbatch`, we unset all Slurm environment variables as we are submitting a batch job from another Slurm job (this notebook that we're currently running)."
   ]
  },
  {
   "cell_type": "code",
   "execution_count": null,
   "id": "377eb42b-e952-401f-8158-0e33cb7bac06",
   "metadata": {},
   "outputs": [],
   "source": [
    "!unset ${!SLURM@}; sbatch job.sh"
   ]
  },
  {
   "cell_type": "markdown",
   "id": "c081403f-645b-4b2a-929f-d2c92270500a",
   "metadata": {},
   "source": [
    "Even though we'll run the simulation for just 200 steps (100 fs), it will take about 20 minutes. You may monitor the queue using `squeue` command:"
   ]
  },
  {
   "cell_type": "code",
   "execution_count": null,
   "id": "20e0079c-2d0b-45ed-8443-c17e4fff9281",
   "metadata": {},
   "outputs": [],
   "source": [
    "!squeue --me"
   ]
  },
  {
   "cell_type": "markdown",
   "id": "8f7c4b0e-4927-4579-a963-4cbc62034036",
   "metadata": {},
   "source": [
    "Also, the `.ener` file is useful to monitor the equilibration of the AIMD simulation:"
   ]
  },
  {
   "cell_type": "code",
   "execution_count": null,
   "id": "01b25836-d9ff-49ee-aca5-f3a4703b5341",
   "metadata": {
    "scrolled": true
   },
   "outputs": [],
   "source": [
    "!cat enol-aimd-1.ener"
   ]
  },
  {
   "cell_type": "markdown",
   "id": "e5ea72b9-d073-4475-9035-0d197a854fe2",
   "metadata": {},
   "source": [
    "For example, **you can plot the time evolution of the temperature and potential energy:**"
   ]
  },
  {
   "cell_type": "code",
   "execution_count": null,
   "id": "2943ac47-3d68-4ed0-b4db-c83ff3719352",
   "metadata": {},
   "outputs": [],
   "source": [
    "import numpy as np\n",
    "import matplotlib.pyplot as plt\n",
    "\n",
    "ener = np.loadtxt('enol-aimd-1.ener', comments='#')\n",
    "\n",
    "_, ax = plt.subplots(2, 1)\n",
    "\n",
    "ax[0].plot(ener[:,1],ener[:,3])\n",
    "ax[0].set_xlabel('Time (fs)')\n",
    "ax[0].set_ylabel('Temperature (K)')\n",
    "\n",
    "ax[1].plot(ener[:,1],ener[:,4])\n",
    "ax[1].set_xlabel('Time (fs)')\n",
    "ax[1].set_ylabel('Potential energy (a.u.)')\n",
    "\n",
    "plt.tight_layout()\n",
    "plt.show()"
   ]
  },
  {
   "cell_type": "markdown",
   "id": "965eb04f-61b4-451b-9389-fa8fe984a628",
   "metadata": {},
   "source": [
    "### Step 4.3: Analysis\n",
    "\n",
    "100 fs is way too little for any meaningful results. **Thus, download a longer pre-simulated 50 ps (100 000 steps) trajectory of the same system.** Note that the water molecules have been removed afterwards from the coordinate file in order to decrease the file size."
   ]
  },
  {
   "cell_type": "code",
   "execution_count": null,
   "id": "f8ea36de-03a7-406c-a8c8-81442fe62371",
   "metadata": {
    "scrolled": true
   },
   "outputs": [],
   "source": [
    "!wget https://a3s.fi/CSC_training/enol-aimd-nowater.xyz"
   ]
  },
  {
   "cell_type": "markdown",
   "id": "8d4baa61-68a8-48a9-bdc2-f502a18eaac6",
   "metadata": {},
   "source": [
    "Let's analyze the proton transfer energy profile based on the sampled dynamics! To this end, we will define a *reaction coordinate* that quantifies the progress of the reaction:\n",
    "\n",
    "$$q=d_\\mathrm{O_a H}-d_\\mathrm{O_b H}$$\n",
    "\n",
    "where $d_\\mathrm{O_a H}$ is the distance between the proton and the oxygen attached directly to the cyclohexane ring and $d_\\mathrm{O_b H}$ os the distance between the proton and the oxygen on the aldehyde side chain. In other words, when $q<0$, the proton is closer to the cyclohexane oxygen and when $q>0$ the proton is closer to the side chain oxygen.\n",
    "\n",
    "By sampling the value of the reaction coordinate along the trajectory, the free energy $A$ can be calculated as\n",
    "\n",
    "$$A(q)=-k_\\mathrm{B}T\\ln P(q)$$\n",
    "\n",
    "where $P(q)$ is the probability density of the reaction coordinate.\n",
    "\n",
    "**Start by reading the trajectory into memory:**"
   ]
  },
  {
   "cell_type": "code",
   "execution_count": null,
   "id": "af075190-a9c2-4ebd-878c-1eadb5db5927",
   "metadata": {},
   "outputs": [],
   "source": [
    "import numpy as np\n",
    "import matplotlib.pyplot as plt\n",
    "from ase.io import read\n",
    "\n",
    "# Read input trajectory\n",
    "trj = read('enol-aimd-nowater.xyz', index=':')"
   ]
  },
  {
   "cell_type": "markdown",
   "id": "84180956-c745-409b-8676-bb909c469e93",
   "metadata": {},
   "source": [
    "Next, we'll use [ASE](https://wiki.fysik.dtu.dk/ase/index.html) to calculate the value of the proton transfer coordinate over the trajectory and then bin the values to obtain the probability density. The free energy is then calculated from $P(q)$ as detailed above. **Do this and plot all the results by running the cell below:**"
   ]
  },
  {
   "cell_type": "code",
   "execution_count": null,
   "id": "601bab3a-74f1-45b3-b463-3322d4d18927",
   "metadata": {},
   "outputs": [],
   "source": [
    "# Thermal energy at room temperature in kJ/mol\n",
    "kT = 2.479\n",
    "\n",
    "# Initialize array for reaction coordinate\n",
    "rc = np.zeros(len(trj))\n",
    "\n",
    "# Loop over trajectory, relevant atoms indices are hard-coded\n",
    "for i, frame in enumerate(trj):\n",
    "    rc[i] = frame.get_distance(10, 14)-frame.get_distance(12,14)\n",
    "\n",
    "# Calculate probability density\n",
    "b = 50\n",
    "hist, _ = np.histogram(rc, bins=b, range=(-1, 1), density=True)\n",
    "\n",
    "# Compute free energy and shift minimum to zero\n",
    "energy = -kT*np.log(hist/np.amax(hist))\n",
    "\n",
    "# Assign x-axes\n",
    "time = np.arange(len(rc))/2000\n",
    "rxn = np.linspace(-1, 1, b)\n",
    "\n",
    "# Plot\n",
    "_, ax = plt.subplots(3, 1)\n",
    "    \n",
    "# Time evolution of the reaction coordinate\n",
    "ax[0].plot(time, rc, lw=0.5)\n",
    "ax[0].set_xlabel('Time (ps)')\n",
    "ax[0].set_ylabel('Rxn coord (Å)')\n",
    "\n",
    "# Probability density of the reaction coordinate\n",
    "ax[1].plot(rxn, hist)\n",
    "ax[1].set_xlabel('Reaction coordinate (Å)')\n",
    "ax[1].set_ylabel('Probability density')\n",
    "\n",
    "# Helmholtz free energy profile\n",
    "ax[2].plot(rxn, energy)\n",
    "ax[2].set_xlabel('Reaction coordinate (Å)')\n",
    "ax[2].set_ylabel('Free energy (kJ/mol)')\n",
    "\n",
    "plt.tight_layout()\n",
    "plt.show()"
   ]
  },
  {
   "cell_type": "markdown",
   "id": "c008fa10-f262-4be3-ae90-68ce5f019de9",
   "metadata": {},
   "source": [
    "* What can you say about the free energy profile? Does the reaction free energy and barrier differ from the static NEB results? Why?\n",
    "\n",
    "## Conclusions and how to improve\n",
    "\n",
    "The aim of this hands-on was to introduce CP2K and how to study simple low-barrier chemical reactions with NEB and AIMD. NEB is a useful method to study reactions that occur in a rather static environment (e.g. surface processes or reactions in vacuum). However, when reactions happen in solution or at an interface between a solid and a liquid, dynamics of the environment may be important to include through e.g. AIMD. However, unbiased AIMD simulations are useful only if the reaction has a very low barrier like here. Typically, one needs to introduce a bias to drive the reaction forward. Such methods fall into the category of enhanced sampling techniques, including e.g. umbrella sampling, thermodynamic integration, metadynamics and adaptive weight histogram methods.\n",
    "\n",
    "* Thinking about the current hands-on, can you list some things that could have been done better?\n",
    "\n",
    "  <details><summary>Spoilers!</summary>\n",
    "      <ul>\n",
    "          <li>\n",
    "              Dispersion (van der Waals) interactions are completely missing, these are needed to model water accurately\n",
    "          </li>\n",
    "          <li>\n",
    "              NEB not fully converged\n",
    "          </li>\n",
    "          <li>\n",
    "              Much more AIMD statistics needed\n",
    "          </li>\n",
    "          <li>\n",
    "              Converging cutoff for the real-space integration grids, basis set, functionals, etc.\n",
    "          </li>\n",
    "          <li>\n",
    "              Nuclear quantum effects\n",
    "          </li>\n",
    "      </ul>\n",
    "  </details>"
   ]
  }
 ],
 "metadata": {
  "kernelspec": {
   "display_name": "Python 3 (ipykernel)",
   "language": "python",
   "name": "python3"
  },
  "language_info": {
   "codemirror_mode": {
    "name": "ipython",
    "version": 3
   },
   "file_extension": ".py",
   "mimetype": "text/x-python",
   "name": "python",
   "nbconvert_exporter": "python",
   "pygments_lexer": "ipython3",
   "version": "3.12.2"
  }
 },
 "nbformat": 4,
 "nbformat_minor": 5
}
