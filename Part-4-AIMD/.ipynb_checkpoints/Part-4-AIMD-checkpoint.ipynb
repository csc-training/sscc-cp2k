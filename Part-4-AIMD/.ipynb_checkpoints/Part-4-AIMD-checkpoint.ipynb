{
 "cells": [
  {
   "cell_type": "markdown",
   "id": "3a0e1305-e054-4b06-a857-ff8d3b01f5f0",
   "metadata": {},
   "source": [
    "# Part 4: Ab initio molecular dynamics simulation of 2-formylcyclohexanone in aqueous solution\n",
    "\n",
    "Standard classical MD simulations are unable to describe chemical reactions such as proton transfer. In ab initio molecular dynamics (AIMD) simulations the forces are calculated at each time step from first principles instead of a parametrized empirical force field. Atoms are thus free to move however they please, making bond making and breaking possible. AIMD simulations are very heavy and can typically be run only for about ~100 ps. It is therefore typically not possible to observe chemical reactions without applying some external bias on the system. However, in the present case the proton transfer barrier is so low (about the size of the thermal energy) that we can see and sample it."
   ]
  },
  {
   "cell_type": "code",
   "execution_count": null,
   "id": "39fc9d04-0fce-4c60-8f07-536cd3cf0f7b",
   "metadata": {},
   "outputs": [],
   "source": []
  }
 ],
 "metadata": {
  "kernelspec": {
   "display_name": "Python 3 (ipykernel)",
   "language": "python",
   "name": "python3"
  },
  "language_info": {
   "codemirror_mode": {
    "name": "ipython",
    "version": 3
   },
   "file_extension": ".py",
   "mimetype": "text/x-python",
   "name": "python",
   "nbconvert_exporter": "python",
   "pygments_lexer": "ipython3",
   "version": "3.12.2"
  }
 },
 "nbformat": 4,
 "nbformat_minor": 5
}
